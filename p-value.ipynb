{
 "cells": [
  {
   "cell_type": "code",
   "execution_count": 18,
   "id": "a33ff3a5-fcfd-48de-afd2-13074bd26c5d",
   "metadata": {},
   "outputs": [],
   "source": [
    "import pandas as pd\n",
    "from scipy.stats import f_oneway"
   ]
  },
  {
   "cell_type": "code",
   "execution_count": 4,
   "id": "7abd427f-f6e4-4d31-a70f-33cbce6dab2b",
   "metadata": {},
   "outputs": [
    {
     "data": {
      "text/html": [
       "<div>\n",
       "<style scoped>\n",
       "    .dataframe tbody tr th:only-of-type {\n",
       "        vertical-align: middle;\n",
       "    }\n",
       "\n",
       "    .dataframe tbody tr th {\n",
       "        vertical-align: top;\n",
       "    }\n",
       "\n",
       "    .dataframe thead th {\n",
       "        text-align: right;\n",
       "    }\n",
       "</style>\n",
       "<table border=\"1\" class=\"dataframe\">\n",
       "  <thead>\n",
       "    <tr style=\"text-align: right;\">\n",
       "      <th></th>\n",
       "      <th>id</th>\n",
       "      <th>age</th>\n",
       "      <th>gender</th>\n",
       "      <th>income</th>\n",
       "      <th>spending_score</th>\n",
       "      <th>membership_years</th>\n",
       "      <th>purchase_frequency</th>\n",
       "      <th>preferred_category</th>\n",
       "      <th>last_purchase_amount</th>\n",
       "      <th>age_group</th>\n",
       "      <th>customer_category</th>\n",
       "      <th>income_group</th>\n",
       "    </tr>\n",
       "  </thead>\n",
       "  <tbody>\n",
       "    <tr>\n",
       "      <th>0</th>\n",
       "      <td>1</td>\n",
       "      <td>38</td>\n",
       "      <td>Female</td>\n",
       "      <td>99342</td>\n",
       "      <td>90</td>\n",
       "      <td>3</td>\n",
       "      <td>24</td>\n",
       "      <td>Groceries</td>\n",
       "      <td>113.53</td>\n",
       "      <td>Over-thirties</td>\n",
       "      <td>Great customer</td>\n",
       "      <td>Upper-Mid Income</td>\n",
       "    </tr>\n",
       "    <tr>\n",
       "      <th>1</th>\n",
       "      <td>2</td>\n",
       "      <td>21</td>\n",
       "      <td>Female</td>\n",
       "      <td>78852</td>\n",
       "      <td>60</td>\n",
       "      <td>2</td>\n",
       "      <td>42</td>\n",
       "      <td>Sports</td>\n",
       "      <td>41.93</td>\n",
       "      <td>Young adult</td>\n",
       "      <td>Good customer</td>\n",
       "      <td>Middle Income</td>\n",
       "    </tr>\n",
       "    <tr>\n",
       "      <th>2</th>\n",
       "      <td>3</td>\n",
       "      <td>60</td>\n",
       "      <td>Female</td>\n",
       "      <td>126573</td>\n",
       "      <td>30</td>\n",
       "      <td>2</td>\n",
       "      <td>28</td>\n",
       "      <td>Clothing</td>\n",
       "      <td>424.36</td>\n",
       "      <td>Seniors</td>\n",
       "      <td>Medium customer</td>\n",
       "      <td>Affluent</td>\n",
       "    </tr>\n",
       "    <tr>\n",
       "      <th>3</th>\n",
       "      <td>4</td>\n",
       "      <td>40</td>\n",
       "      <td>Other</td>\n",
       "      <td>47099</td>\n",
       "      <td>74</td>\n",
       "      <td>9</td>\n",
       "      <td>5</td>\n",
       "      <td>Home &amp; Garden</td>\n",
       "      <td>991.93</td>\n",
       "      <td>Over-forties</td>\n",
       "      <td>Good customer</td>\n",
       "      <td>Lower-Mid Income</td>\n",
       "    </tr>\n",
       "    <tr>\n",
       "      <th>4</th>\n",
       "      <td>5</td>\n",
       "      <td>65</td>\n",
       "      <td>Female</td>\n",
       "      <td>140621</td>\n",
       "      <td>21</td>\n",
       "      <td>3</td>\n",
       "      <td>25</td>\n",
       "      <td>Electronics</td>\n",
       "      <td>347.08</td>\n",
       "      <td>Seniors</td>\n",
       "      <td>Bad customer</td>\n",
       "      <td>Affluent</td>\n",
       "    </tr>\n",
       "  </tbody>\n",
       "</table>\n",
       "</div>"
      ],
      "text/plain": [
       "   id  age  gender  income  spending_score  membership_years  \\\n",
       "0   1   38  Female   99342              90                 3   \n",
       "1   2   21  Female   78852              60                 2   \n",
       "2   3   60  Female  126573              30                 2   \n",
       "3   4   40   Other   47099              74                 9   \n",
       "4   5   65  Female  140621              21                 3   \n",
       "\n",
       "   purchase_frequency preferred_category  last_purchase_amount      age_group  \\\n",
       "0                  24          Groceries                113.53  Over-thirties   \n",
       "1                  42             Sports                 41.93    Young adult   \n",
       "2                  28           Clothing                424.36        Seniors   \n",
       "3                   5      Home & Garden                991.93   Over-forties   \n",
       "4                  25        Electronics                347.08        Seniors   \n",
       "\n",
       "  customer_category      income_group  \n",
       "0    Great customer  Upper-Mid Income  \n",
       "1     Good customer     Middle Income  \n",
       "2   Medium customer          Affluent  \n",
       "3     Good customer  Lower-Mid Income  \n",
       "4      Bad customer          Affluent  "
      ]
     },
     "execution_count": 4,
     "metadata": {},
     "output_type": "execute_result"
    }
   ],
   "source": [
    "df = pd.read_csv(\"joined_data.csv\")\n",
    "df.head()"
   ]
  },
  {
   "cell_type": "code",
   "execution_count": 17,
   "id": "cc527459-2517-4d72-b37b-7d6edd638737",
   "metadata": {},
   "outputs": [],
   "source": [
    "membership_years = list(df[\"membership_years\"].unique())\n",
    "membership_spending_scores = []\n",
    "for year in membership_years:\n",
    "    m_y_totals = df[df[\"membership_years\"] == year][\"spending_score\"]\n",
    "    membership_spending_scores.append(m_y_totals)"
   ]
  },
  {
   "cell_type": "code",
   "execution_count": 20,
   "id": "44f1d3e0-c66a-429f-aa73-49c0c79b7205",
   "metadata": {},
   "outputs": [
    {
     "data": {
      "text/plain": [
       "F_onewayResult(statistic=0.6610184052897011, pvalue=0.744682515398925)"
      ]
     },
     "execution_count": 20,
     "metadata": {},
     "output_type": "execute_result"
    }
   ],
   "source": [
    "# ANOVA test\n",
    "f_oneway(*membership_spending_scores)"
   ]
  }
 ],
 "metadata": {
  "kernelspec": {
   "display_name": "Python [conda env:base] *",
   "language": "python",
   "name": "conda-base-py"
  },
  "language_info": {
   "codemirror_mode": {
    "name": "ipython",
    "version": 3
   },
   "file_extension": ".py",
   "mimetype": "text/x-python",
   "name": "python",
   "nbconvert_exporter": "python",
   "pygments_lexer": "ipython3",
   "version": "3.12.7"
  }
 },
 "nbformat": 4,
 "nbformat_minor": 5
}
